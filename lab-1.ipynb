{
 "cells": [
  {
   "cell_type": "markdown",
   "id": "bf212b16-1fc5-47c0-bd52-2d382eb15066",
   "metadata": {},
   "source": [
    "# Data visualization"
   ]
  },
  {
   "cell_type": "markdown",
   "id": "7166dd29-680b-42ee-9fbc-42b0adaa615e",
   "metadata": {},
   "source": [
    "<h2> Introduction </h2>"
   ]
  },
  {
   "cell_type": "markdown",
   "id": "c1be8924-a2c1-46ff-ab92-f6c47e779f2a",
   "metadata": {},
   "source": [
    "<p> The aim of this lab is to introduce you to data visualization using Python as concrete and asconsistent as possible.Speaking of consistency,becuase there is no best data visualization library available for python - up to creating these labs - we have to introduce different libraries and show their benefits when we are discussing new visualization concenpts.Doing  so,we hope to students well rounded with visualization libraries and concepts so that they are able to judge and decide on the best visualization technique  and tool for agien problem and audience.</p>"
   ]
  },
  {
   "cell_type": "code",
   "execution_count": null,
   "id": "3d815c03-5f8f-4d7b-8d2b-6be03c8c78d1",
   "metadata": {},
   "outputs": [],
   "source": []
  }
 ],
 "metadata": {
  "kernelspec": {
   "display_name": "Python",
   "language": "python",
   "name": "conda-env-python-py"
  },
  "language_info": {
   "codemirror_mode": {
    "name": "ipython",
    "version": 3
   },
   "file_extension": ".py",
   "mimetype": "text/x-python",
   "name": "python",
   "nbconvert_exporter": "python",
   "pygments_lexer": "ipython3",
   "version": "3.6.13"
  }
 },
 "nbformat": 4,
 "nbformat_minor": 5
}
