{
 "cells": [
  {
   "cell_type": "markdown",
   "id": "bf212b16-1fc5-47c0-bd52-2d382eb15066",
   "metadata": {},
   "source": [
    "# Data visualization"
   ]
  },
  {
   "cell_type": "markdown",
   "id": "7166dd29-680b-42ee-9fbc-42b0adaa615e",
   "metadata": {},
   "source": [
    "<h2> Introduction </h2>"
   ]
  },
  {
   "cell_type": "markdown",
   "id": "c1be8924-a2c1-46ff-ab92-f6c47e779f2a",
   "metadata": {},
   "source": [
    "<p> The aim of this lab is to introduce you to data visualization using Python as concrete and asconsistent as possible.Speaking of consistency,becuase there is no best data visualization library available for python - up to creating these labs - we have to introduce different libraries and show their benefits when we are discussing new visualization concenpts.Doing  so,we hope to students well rounded with visualization libraries and concepts so that they are able to judge and decide on the best visualization technique  and tool for a gvien problem and audience.</p>"
   ]
  },
  {
   "cell_type": "markdown",
   "id": "db15580e-81d5-47db-ad06-7d87ac8ad320",
   "metadata": {},
   "source": [
    "## Table of Contents\n",
    "\n",
    "<div class=\"alert alert-block alert-info\" style=\"margin-top: 20px\">\n",
    "\n",
    "1.  [Exploring Datasets with _pandas_](#0)<br>\n",
    "    1.1 [The Dataset: Immigration to Canada from 1980 to 2013](#2)<br>\n",
    "    1.2 [_pandas_ Basics](#4) <br>\n",
    "    1.3 [_pandas_ Intermediate: Indexing and Selection](#6) <br>\n",
    "2.  [Visualizing Data using Matplotlib](#8) <br>\n",
    "    2.1 [Matplotlib: Standard Python Visualization Library](#10) <br>\n",
    "3.  [Line Plots](#12)\n",
    "    </div>"
   ]
  },
  {
   "cell_type": "code",
   "execution_count": null,
   "id": "dd8b5617-6100-4b32-a8ef-f4d698df69b8",
   "metadata": {},
   "outputs": [],
   "source": []
  }
 ],
 "metadata": {
  "kernelspec": {
   "display_name": "Python",
   "language": "python",
   "name": "conda-env-python-py"
  },
  "language_info": {
   "codemirror_mode": {
    "name": "ipython",
    "version": 3
   },
   "file_extension": ".py",
   "mimetype": "text/x-python",
   "name": "python",
   "nbconvert_exporter": "python",
   "pygments_lexer": "ipython3",
   "version": "3.6.13"
  }
 },
 "nbformat": 4,
 "nbformat_minor": 5
}
